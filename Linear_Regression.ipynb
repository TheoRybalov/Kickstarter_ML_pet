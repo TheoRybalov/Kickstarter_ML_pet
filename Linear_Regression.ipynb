{
 "cells": [
  {
   "cell_type": "code",
   "execution_count": 1,
   "metadata": {},
   "outputs": [],
   "source": [
    "import pandas as pd\n",
    "import numpy as np"
   ]
  },
  {
   "cell_type": "markdown",
   "metadata": {},
   "source": [
    "## Импорт данных"
   ]
  },
  {
   "cell_type": "code",
   "execution_count": 2,
   "metadata": {},
   "outputs": [
    {
     "data": {
      "text/html": [
       "<div>\n",
       "<style scoped>\n",
       "    .dataframe tbody tr th:only-of-type {\n",
       "        vertical-align: middle;\n",
       "    }\n",
       "\n",
       "    .dataframe tbody tr th {\n",
       "        vertical-align: top;\n",
       "    }\n",
       "\n",
       "    .dataframe thead th {\n",
       "        text-align: right;\n",
       "    }\n",
       "</style>\n",
       "<table border=\"1\" class=\"dataframe\">\n",
       "  <thead>\n",
       "    <tr style=\"text-align: right;\">\n",
       "      <th></th>\n",
       "      <th>Категория</th>\n",
       "      <th>Цель в долларах</th>\n",
       "      <th>Срок</th>\n",
       "      <th>Год публикации</th>\n",
       "      <th>Close_brent</th>\n",
       "      <th>CAD</th>\n",
       "      <th>CHF</th>\n",
       "      <th>DKK</th>\n",
       "      <th>EUR</th>\n",
       "      <th>GBP</th>\n",
       "      <th>...</th>\n",
       "      <th>Design</th>\n",
       "      <th>Fashion</th>\n",
       "      <th>Film &amp; Video</th>\n",
       "      <th>Food</th>\n",
       "      <th>Journalism</th>\n",
       "      <th>Music</th>\n",
       "      <th>Photography</th>\n",
       "      <th>Publishing</th>\n",
       "      <th>Technology</th>\n",
       "      <th>Theater</th>\n",
       "    </tr>\n",
       "  </thead>\n",
       "  <tbody>\n",
       "    <tr>\n",
       "      <th>0</th>\n",
       "      <td>6035.989239</td>\n",
       "      <td>1000.0</td>\n",
       "      <td>39</td>\n",
       "      <td>2009</td>\n",
       "      <td>34.41</td>\n",
       "      <td>0</td>\n",
       "      <td>0</td>\n",
       "      <td>0</td>\n",
       "      <td>0</td>\n",
       "      <td>0</td>\n",
       "      <td>...</td>\n",
       "      <td>0</td>\n",
       "      <td>1</td>\n",
       "      <td>0</td>\n",
       "      <td>0</td>\n",
       "      <td>0</td>\n",
       "      <td>0</td>\n",
       "      <td>0</td>\n",
       "      <td>0</td>\n",
       "      <td>0</td>\n",
       "      <td>0</td>\n",
       "    </tr>\n",
       "    <tr>\n",
       "      <th>1</th>\n",
       "      <td>3591.033473</td>\n",
       "      <td>80000.0</td>\n",
       "      <td>87</td>\n",
       "      <td>2009</td>\n",
       "      <td>34.41</td>\n",
       "      <td>0</td>\n",
       "      <td>0</td>\n",
       "      <td>0</td>\n",
       "      <td>0</td>\n",
       "      <td>0</td>\n",
       "      <td>...</td>\n",
       "      <td>0</td>\n",
       "      <td>0</td>\n",
       "      <td>1</td>\n",
       "      <td>0</td>\n",
       "      <td>0</td>\n",
       "      <td>0</td>\n",
       "      <td>0</td>\n",
       "      <td>0</td>\n",
       "      <td>0</td>\n",
       "      <td>0</td>\n",
       "    </tr>\n",
       "    <tr>\n",
       "      <th>2</th>\n",
       "      <td>3661.424550</td>\n",
       "      <td>20.0</td>\n",
       "      <td>8</td>\n",
       "      <td>2009</td>\n",
       "      <td>34.41</td>\n",
       "      <td>0</td>\n",
       "      <td>0</td>\n",
       "      <td>0</td>\n",
       "      <td>0</td>\n",
       "      <td>0</td>\n",
       "      <td>...</td>\n",
       "      <td>0</td>\n",
       "      <td>0</td>\n",
       "      <td>0</td>\n",
       "      <td>0</td>\n",
       "      <td>0</td>\n",
       "      <td>0</td>\n",
       "      <td>0</td>\n",
       "      <td>0</td>\n",
       "      <td>0</td>\n",
       "      <td>0</td>\n",
       "    </tr>\n",
       "    <tr>\n",
       "      <th>3</th>\n",
       "      <td>4321.245721</td>\n",
       "      <td>99.0</td>\n",
       "      <td>79</td>\n",
       "      <td>2009</td>\n",
       "      <td>34.41</td>\n",
       "      <td>0</td>\n",
       "      <td>0</td>\n",
       "      <td>0</td>\n",
       "      <td>0</td>\n",
       "      <td>0</td>\n",
       "      <td>...</td>\n",
       "      <td>0</td>\n",
       "      <td>0</td>\n",
       "      <td>0</td>\n",
       "      <td>0</td>\n",
       "      <td>0</td>\n",
       "      <td>0</td>\n",
       "      <td>0</td>\n",
       "      <td>0</td>\n",
       "      <td>1</td>\n",
       "      <td>0</td>\n",
       "    </tr>\n",
       "    <tr>\n",
       "      <th>4</th>\n",
       "      <td>6035.989239</td>\n",
       "      <td>1900.0</td>\n",
       "      <td>28</td>\n",
       "      <td>2009</td>\n",
       "      <td>34.41</td>\n",
       "      <td>0</td>\n",
       "      <td>0</td>\n",
       "      <td>0</td>\n",
       "      <td>0</td>\n",
       "      <td>0</td>\n",
       "      <td>...</td>\n",
       "      <td>0</td>\n",
       "      <td>1</td>\n",
       "      <td>0</td>\n",
       "      <td>0</td>\n",
       "      <td>0</td>\n",
       "      <td>0</td>\n",
       "      <td>0</td>\n",
       "      <td>0</td>\n",
       "      <td>0</td>\n",
       "      <td>0</td>\n",
       "    </tr>\n",
       "  </tbody>\n",
       "</table>\n",
       "<p>5 rows × 32 columns</p>\n",
       "</div>"
      ],
      "text/plain": [
       "     Категория  Цель в долларах  Срок  Год публикации  Close_brent  CAD  CHF  \\\n",
       "0  6035.989239           1000.0    39            2009        34.41    0    0   \n",
       "1  3591.033473          80000.0    87            2009        34.41    0    0   \n",
       "2  3661.424550             20.0     8            2009        34.41    0    0   \n",
       "3  4321.245721             99.0    79            2009        34.41    0    0   \n",
       "4  6035.989239           1900.0    28            2009        34.41    0    0   \n",
       "\n",
       "   DKK  EUR  GBP  ...  Design  Fashion  Film & Video  Food  Journalism  Music  \\\n",
       "0    0    0    0  ...       0        1             0     0           0      0   \n",
       "1    0    0    0  ...       0        0             1     0           0      0   \n",
       "2    0    0    0  ...       0        0             0     0           0      0   \n",
       "3    0    0    0  ...       0        0             0     0           0      0   \n",
       "4    0    0    0  ...       0        1             0     0           0      0   \n",
       "\n",
       "   Photography  Publishing  Technology  Theater  \n",
       "0            0           0           0        0  \n",
       "1            0           0           0        0  \n",
       "2            0           0           0        0  \n",
       "3            0           0           1        0  \n",
       "4            0           0           0        0  \n",
       "\n",
       "[5 rows x 32 columns]"
      ]
     },
     "execution_count": 2,
     "metadata": {},
     "output_type": "execute_result"
    }
   ],
   "source": [
    "X = pd.read_csv(\"data/samples.csv\")\n",
    "X.head()"
   ]
  },
  {
   "cell_type": "code",
   "execution_count": 5,
   "metadata": {},
   "outputs": [
    {
     "data": {
      "text/plain": [
       "(331675, 32)"
      ]
     },
     "execution_count": 5,
     "metadata": {},
     "output_type": "execute_result"
    }
   ],
   "source": [
    "X.shape"
   ]
  },
  {
   "cell_type": "code",
   "execution_count": 6,
   "metadata": {},
   "outputs": [
    {
     "data": {
      "text/plain": [
       "(331675, 1)"
      ]
     },
     "execution_count": 6,
     "metadata": {},
     "output_type": "execute_result"
    }
   ],
   "source": [
    "Y = pd.read_csv(\"data/targets_linreg.csv\")\n",
    "# Y = Y['таргет2']\n",
    "Y.head()\n",
    "Y.shape"
   ]
  },
  {
   "cell_type": "markdown",
   "metadata": {},
   "source": [
    "## Построение простой модели линейной регрессии"
   ]
  },
  {
   "cell_type": "code",
   "execution_count": 7,
   "metadata": {},
   "outputs": [
    {
     "data": {
      "text/html": [
       "<div>\n",
       "<style scoped>\n",
       "    .dataframe tbody tr th:only-of-type {\n",
       "        vertical-align: middle;\n",
       "    }\n",
       "\n",
       "    .dataframe tbody tr th {\n",
       "        vertical-align: top;\n",
       "    }\n",
       "\n",
       "    .dataframe thead th {\n",
       "        text-align: right;\n",
       "    }\n",
       "</style>\n",
       "<table border=\"1\" class=\"dataframe\">\n",
       "  <thead>\n",
       "    <tr style=\"text-align: right;\">\n",
       "      <th></th>\n",
       "      <th>Категория</th>\n",
       "      <th>Цель в долларах</th>\n",
       "      <th>Срок</th>\n",
       "      <th>Год публикации</th>\n",
       "      <th>Close_brent</th>\n",
       "      <th>CAD</th>\n",
       "      <th>CHF</th>\n",
       "      <th>DKK</th>\n",
       "      <th>EUR</th>\n",
       "      <th>GBP</th>\n",
       "      <th>...</th>\n",
       "      <th>Fashion</th>\n",
       "      <th>Film &amp; Video</th>\n",
       "      <th>Food</th>\n",
       "      <th>Journalism</th>\n",
       "      <th>Music</th>\n",
       "      <th>Photography</th>\n",
       "      <th>Publishing</th>\n",
       "      <th>Technology</th>\n",
       "      <th>Theater</th>\n",
       "      <th>Предсказание</th>\n",
       "    </tr>\n",
       "  </thead>\n",
       "  <tbody>\n",
       "    <tr>\n",
       "      <th>0</th>\n",
       "      <td>6035.989239</td>\n",
       "      <td>1000.0</td>\n",
       "      <td>39</td>\n",
       "      <td>2009</td>\n",
       "      <td>34.41</td>\n",
       "      <td>0</td>\n",
       "      <td>0</td>\n",
       "      <td>0</td>\n",
       "      <td>0</td>\n",
       "      <td>0</td>\n",
       "      <td>...</td>\n",
       "      <td>1</td>\n",
       "      <td>0</td>\n",
       "      <td>0</td>\n",
       "      <td>0</td>\n",
       "      <td>0</td>\n",
       "      <td>0</td>\n",
       "      <td>0</td>\n",
       "      <td>0</td>\n",
       "      <td>0</td>\n",
       "      <td>3125.804988</td>\n",
       "    </tr>\n",
       "    <tr>\n",
       "      <th>1</th>\n",
       "      <td>3591.033473</td>\n",
       "      <td>80000.0</td>\n",
       "      <td>87</td>\n",
       "      <td>2009</td>\n",
       "      <td>34.41</td>\n",
       "      <td>0</td>\n",
       "      <td>0</td>\n",
       "      <td>0</td>\n",
       "      <td>0</td>\n",
       "      <td>0</td>\n",
       "      <td>...</td>\n",
       "      <td>0</td>\n",
       "      <td>1</td>\n",
       "      <td>0</td>\n",
       "      <td>0</td>\n",
       "      <td>0</td>\n",
       "      <td>0</td>\n",
       "      <td>0</td>\n",
       "      <td>0</td>\n",
       "      <td>0</td>\n",
       "      <td>5117.789402</td>\n",
       "    </tr>\n",
       "    <tr>\n",
       "      <th>2</th>\n",
       "      <td>3661.424550</td>\n",
       "      <td>20.0</td>\n",
       "      <td>8</td>\n",
       "      <td>2009</td>\n",
       "      <td>34.41</td>\n",
       "      <td>0</td>\n",
       "      <td>0</td>\n",
       "      <td>0</td>\n",
       "      <td>0</td>\n",
       "      <td>0</td>\n",
       "      <td>...</td>\n",
       "      <td>0</td>\n",
       "      <td>0</td>\n",
       "      <td>0</td>\n",
       "      <td>0</td>\n",
       "      <td>0</td>\n",
       "      <td>0</td>\n",
       "      <td>0</td>\n",
       "      <td>0</td>\n",
       "      <td>0</td>\n",
       "      <td>-1680.580057</td>\n",
       "    </tr>\n",
       "    <tr>\n",
       "      <th>3</th>\n",
       "      <td>4321.245721</td>\n",
       "      <td>99.0</td>\n",
       "      <td>79</td>\n",
       "      <td>2009</td>\n",
       "      <td>34.41</td>\n",
       "      <td>0</td>\n",
       "      <td>0</td>\n",
       "      <td>0</td>\n",
       "      <td>0</td>\n",
       "      <td>0</td>\n",
       "      <td>...</td>\n",
       "      <td>0</td>\n",
       "      <td>0</td>\n",
       "      <td>0</td>\n",
       "      <td>0</td>\n",
       "      <td>0</td>\n",
       "      <td>0</td>\n",
       "      <td>0</td>\n",
       "      <td>1</td>\n",
       "      <td>0</td>\n",
       "      <td>4935.864467</td>\n",
       "    </tr>\n",
       "    <tr>\n",
       "      <th>4</th>\n",
       "      <td>6035.989239</td>\n",
       "      <td>1900.0</td>\n",
       "      <td>28</td>\n",
       "      <td>2009</td>\n",
       "      <td>34.41</td>\n",
       "      <td>0</td>\n",
       "      <td>0</td>\n",
       "      <td>0</td>\n",
       "      <td>0</td>\n",
       "      <td>0</td>\n",
       "      <td>...</td>\n",
       "      <td>1</td>\n",
       "      <td>0</td>\n",
       "      <td>0</td>\n",
       "      <td>0</td>\n",
       "      <td>0</td>\n",
       "      <td>0</td>\n",
       "      <td>0</td>\n",
       "      <td>0</td>\n",
       "      <td>0</td>\n",
       "      <td>2183.699047</td>\n",
       "    </tr>\n",
       "  </tbody>\n",
       "</table>\n",
       "<p>5 rows × 33 columns</p>\n",
       "</div>"
      ],
      "text/plain": [
       "     Категория  Цель в долларах  Срок  Год публикации  Close_brent  CAD  CHF  \\\n",
       "0  6035.989239           1000.0    39            2009        34.41    0    0   \n",
       "1  3591.033473          80000.0    87            2009        34.41    0    0   \n",
       "2  3661.424550             20.0     8            2009        34.41    0    0   \n",
       "3  4321.245721             99.0    79            2009        34.41    0    0   \n",
       "4  6035.989239           1900.0    28            2009        34.41    0    0   \n",
       "\n",
       "   DKK  EUR  GBP  ...  Fashion  Film & Video  Food  Journalism  Music  \\\n",
       "0    0    0    0  ...        1             0     0           0      0   \n",
       "1    0    0    0  ...        0             1     0           0      0   \n",
       "2    0    0    0  ...        0             0     0           0      0   \n",
       "3    0    0    0  ...        0             0     0           0      0   \n",
       "4    0    0    0  ...        1             0     0           0      0   \n",
       "\n",
       "   Photography  Publishing  Technology  Theater  Предсказание  \n",
       "0            0           0           0        0   3125.804988  \n",
       "1            0           0           0        0   5117.789402  \n",
       "2            0           0           0        0  -1680.580057  \n",
       "3            0           0           1        0   4935.864467  \n",
       "4            0           0           0        0   2183.699047  \n",
       "\n",
       "[5 rows x 33 columns]"
      ]
     },
     "execution_count": 7,
     "metadata": {},
     "output_type": "execute_result"
    }
   ],
   "source": [
    "from sklearn.linear_model import LinearRegression\n",
    "\n",
    "model = LinearRegression()\n",
    "\n",
    "model.fit(X, Y)\n",
    "\n",
    "X['Предсказание'] = model.predict(X)\n",
    "\n",
    "X.head()"
   ]
  },
  {
   "cell_type": "markdown",
   "metadata": {},
   "source": [
    "## Расчёт ошибок для полученной модели"
   ]
  },
  {
   "cell_type": "code",
   "execution_count": 8,
   "metadata": {},
   "outputs": [
    {
     "name": "stdout",
     "output_type": "stream",
     "text": [
      "MSE полученной модели: 9201867212.576\n",
      "RMSE полученной модели: 95926.363\n",
      "MAE полученной модели: 13854.018\n",
      "R^2 полученной модели: 0.017\n"
     ]
    }
   ],
   "source": [
    "MSE = np.round(((X['Предсказание'] - Y['таргет2'])**2).mean(), 3)\n",
    "RMSE = np.round((((X['Предсказание'] - Y['таргет2'])**2).mean()) ** 0.5, 3)\n",
    "MAE = np.round((abs(X['Предсказание'] - Y['таргет2']).mean()), 3)\n",
    "R_square = np.round(1 - (((Y['таргет2'] - X['Предсказание'])**2).sum()/((Y['таргет2'] - Y['таргет2'].mean())**2).sum()), 3)\n",
    "\n",
    "\n",
    "print(f\"MSE полученной модели: {MSE}\")\n",
    "print(f\"RMSE полученной модели: {RMSE}\")\n",
    "print(f\"MAE полученной модели: {MAE}\")\n",
    "print(f\"R^2 полученной модели: {R_square}\")\n"
   ]
  },
  {
   "cell_type": "markdown",
   "metadata": {},
   "source": [
    "## Оценка на тестовых данных"
   ]
  },
  {
   "cell_type": "code",
   "execution_count": 11,
   "metadata": {},
   "outputs": [
    {
     "name": "stdout",
     "output_type": "stream",
     "text": [
      "Test MSE: 10499413799.0\n"
     ]
    },
    {
     "name": "stderr",
     "output_type": "stream",
     "text": [
      "C:\\Users\\fedor\\AppData\\Local\\Temp\\ipykernel_17456\\3454265046.py:7: FutureWarning: Calling float on a single element Series is deprecated and will raise a TypeError in the future. Use float(ser.iloc[0]) instead\n",
      "  print(f\"Test MSE: {float(MSE)}\")\n"
     ]
    }
   ],
   "source": [
    "from sklearn.model_selection import train_test_split\n",
    "\n",
    "X_train, X_test, Y_train, Y_test = train_test_split(X, Y, test_size=0.2, random_state=42)\n",
    "final_model = LinearRegression().fit(X_train, Y_train)\n",
    "y_pred = final_model.predict(X_test)\n",
    "MSE = np.round(((y_pred - Y_test)**2).mean(), 3)\n",
    "print(f\"Test MSE: {float(MSE)}\")"
   ]
  },
  {
   "cell_type": "markdown",
   "metadata": {},
   "source": [
    "## Применение кросс-валидации"
   ]
  },
  {
   "cell_type": "markdown",
   "metadata": {},
   "source": [
    "### K-Folds"
   ]
  },
  {
   "cell_type": "code",
   "execution_count": 12,
   "metadata": {},
   "outputs": [],
   "source": [
    "from sklearn.model_selection import train_test_split, cross_val_score, KFold\n",
    "\n",
    "cv = KFold(n_splits=10, shuffle=True, random_state=42)"
   ]
  },
  {
   "cell_type": "markdown",
   "metadata": {},
   "source": [
    "#### - Ручками"
   ]
  },
  {
   "cell_type": "code",
   "execution_count": 13,
   "metadata": {},
   "outputs": [],
   "source": [
    "losses_train = []\n",
    "losses_test = []\n",
    "\n",
    "for train_index, test_index in cv.split(X):\n",
    "    X_train, X_test = X.values[train_index], X.values[test_index]\n",
    "    Y_train, Y_test = Y.values[train_index], Y.values[test_index]\n",
    "\n",
    "    model = LinearRegression()\n",
    "    model.fit(X_train, Y_train)\n",
    "\n",
    "    losses_test.append(np.mean((model.predict(X_test)-Y_test)**2)**(1/2))\n",
    "    losses_train.append(np.mean((model.predict(X_train)-Y_train)**2)**(1/2))"
   ]
  },
  {
   "cell_type": "code",
   "execution_count": 14,
   "metadata": {},
   "outputs": [
    {
     "data": {
      "text/plain": [
       "(93083, 95888)"
      ]
     },
     "execution_count": 14,
     "metadata": {},
     "output_type": "execute_result"
    }
   ],
   "source": [
    "int(np.mean(losses_test)), int(np.mean(losses_train))"
   ]
  },
  {
   "cell_type": "markdown",
   "metadata": {},
   "source": [
    "#### - Метод cross_val_score из sklearn"
   ]
  },
  {
   "cell_type": "code",
   "execution_count": 15,
   "metadata": {},
   "outputs": [
    {
     "name": "stdout",
     "output_type": "stream",
     "text": [
      "MSE на кросс-валидации: 9203339501.410\n",
      "R2 на кросс-валидации: 0.019\n"
     ]
    }
   ],
   "source": [
    "model = LinearRegression()\n",
    "\n",
    "mse_scores = -cross_val_score(model, X, Y, cv = cv, scoring=\"neg_mean_squared_error\")\n",
    "r2_scores = cross_val_score(model, X, Y, cv = cv, scoring=\"r2\")\n",
    "print(f\"MSE на кросс-валидации: {np.mean(mse_scores):.3f}\")\n",
    "print(f\"R2 на кросс-валидации: {np.mean(r2_scores):.3f}\")"
   ]
  },
  {
   "cell_type": "markdown",
   "metadata": {},
   "source": [
    "## Убрать мультиколинеарность"
   ]
  },
  {
   "cell_type": "code",
   "execution_count": null,
   "metadata": {},
   "outputs": [
    {
     "name": "stderr",
     "output_type": "stream",
     "text": [
      "c:\\Users\\fedor\\ML_Pet_projects\\Kickstarter\\venv\\Lib\\site-packages\\sklearn\\linear_model\\_coordinate_descent.py:695: ConvergenceWarning: Objective did not converge. You might want to increase the number of iterations, check the scale of the features or consider increasing regularisation. Duality gap: 6.691e+13, tolerance: 2.841e+11\n",
      "  model = cd_fast.enet_coordinate_descent(\n"
     ]
    }
   ],
   "source": [
    "from sklearn.linear_model import Lasso\n",
    "from sklearn.preprocessing import StandardScaler\n",
    "\n",
    "scaler_x = StandardScaler()\n",
    "\n",
    "losses_train = []\n",
    "losses_test = []\n",
    "\n",
    "for train_index, test_index in cv.split(X):\n",
    "    X_train, X_test = X.values[train_index], X.values[test_index]\n",
    "    Y_train, Y_test = Y.values[train_index], Y.values[test_index]\n",
    "\n",
    "    scaler_x = StandardScaler()\n",
    "    scaler_x.fit(X_train)\n",
    "    X_train_transformed = scaler_x.transform(X_train)\n",
    "    X_test_transformed = scaler_x.transform(X_test)\n",
    "\n",
    "\n",
    "\n",
    "    model = Lasso()\n",
    "\n",
    "    model.fit(X_train_transformed, Y_train)\n",
    "\n",
    "    losses_test.append(np.mean((model.predict(X_test_transformed)-Y_test)**2)**(1/2))\n",
    "    losses_train.append(np.mean((model.predict(X_train_transformed)-Y_train)**2)**(1/2))\n",
    "\n",
    "\n",
    "\n",
    "\n",
    "\n"
   ]
  },
  {
   "cell_type": "code",
   "execution_count": null,
   "metadata": {},
   "outputs": [
    {
     "data": {
      "text/plain": [
       "(0, 1)"
      ]
     },
     "execution_count": 17,
     "metadata": {},
     "output_type": "execute_result"
    }
   ],
   "source": [
    "int(np.mean(losses_test)), int(np.mean(losses_train))"
   ]
  },
  {
   "cell_type": "code",
   "execution_count": null,
   "metadata": {},
   "outputs": [
    {
     "name": "stdout",
     "output_type": "stream",
     "text": [
      "MSE на кросс-валидации: 9203339501.410\n",
      "R2 на кросс-валидации: 0.019\n"
     ]
    }
   ],
   "source": [
    "\n",
    "\n",
    "model = LinearRegression()\n",
    "\n",
    "\n",
    "\n",
    "mse_scores = -cross_val_score(model, X, Y, cv = cv, scoring=\"neg_mean_squared_error\")\n",
    "r2_scores = cross_val_score(model, X, Y, cv = cv, scoring=\"r2\")\n",
    "print(f\"MSE на кросс-валидации: {np.mean(mse_scores):.3f}\")\n",
    "print(f\"R2 на кросс-валидации: {np.mean(r2_scores):.3f}\")\n"
   ]
  },
  {
   "cell_type": "code",
   "execution_count": null,
   "metadata": {},
   "outputs": [
    {
     "name": "stdout",
     "output_type": "stream",
     "text": [
      "Test MSE: 10499413799.0000\n"
     ]
    }
   ],
   "source": [
    "X_train, X_test, Y_train, Y_test = train_test_split(X, Y, test_size=0.2, random_state=42)\n",
    "final_model = LinearRegression().fit(X_train, Y_train)\n",
    "y_pred = final_model.predict(X_test)\n",
    "MSE = np.round(((y_pred - Y_test)**2).mean(), 3)\n",
    "print(f\"Test MSE: {MSE:.4f}\")\n"
   ]
  },
  {
   "cell_type": "markdown",
   "metadata": {},
   "source": [
    "## Убрать мультиколинеарность"
   ]
  },
  {
   "cell_type": "code",
   "execution_count": null,
   "metadata": {},
   "outputs": [
    {
     "name": "stderr",
     "output_type": "stream",
     "text": [
      "c:\\Users\\fedor\\ML_Pet_projects\\Kickstarter\\venv\\Lib\\site-packages\\sklearn\\linear_model\\_coordinate_descent.py:695: ConvergenceWarning: Objective did not converge. You might want to increase the number of iterations, check the scale of the features or consider increasing regularisation. Duality gap: 1.320e+13, tolerance: 2.396e+11\n",
      "  model = cd_fast.enet_coordinate_descent(\n",
      "c:\\Users\\fedor\\ML_Pet_projects\\Kickstarter\\venv\\Lib\\site-packages\\sklearn\\linear_model\\_coordinate_descent.py:695: ConvergenceWarning: Objective did not converge. You might want to increase the number of iterations, check the scale of the features or consider increasing regularisation. Duality gap: 1.150e+13, tolerance: 2.295e+11\n",
      "  model = cd_fast.enet_coordinate_descent(\n",
      "c:\\Users\\fedor\\ML_Pet_projects\\Kickstarter\\venv\\Lib\\site-packages\\sklearn\\linear_model\\_coordinate_descent.py:695: ConvergenceWarning: Objective did not converge. You might want to increase the number of iterations, check the scale of the features or consider increasing regularisation. Duality gap: 8.804e+12, tolerance: 1.884e+11\n",
      "  model = cd_fast.enet_coordinate_descent(\n",
      "c:\\Users\\fedor\\ML_Pet_projects\\Kickstarter\\venv\\Lib\\site-packages\\sklearn\\linear_model\\_coordinate_descent.py:695: ConvergenceWarning: Objective did not converge. You might want to increase the number of iterations, check the scale of the features or consider increasing regularisation. Duality gap: 9.494e+12, tolerance: 2.142e+11\n",
      "  model = cd_fast.enet_coordinate_descent(\n",
      "c:\\Users\\fedor\\ML_Pet_projects\\Kickstarter\\venv\\Lib\\site-packages\\sklearn\\linear_model\\_coordinate_descent.py:695: ConvergenceWarning: Objective did not converge. You might want to increase the number of iterations, check the scale of the features or consider increasing regularisation. Duality gap: 1.246e+13, tolerance: 2.271e+11\n",
      "  model = cd_fast.enet_coordinate_descent(\n",
      "c:\\Users\\fedor\\ML_Pet_projects\\Kickstarter\\venv\\Lib\\site-packages\\sklearn\\linear_model\\_coordinate_descent.py:695: ConvergenceWarning: Objective did not converge. You might want to increase the number of iterations, check the scale of the features or consider increasing regularisation. Duality gap: 1.041e+13, tolerance: 2.119e+11\n",
      "  model = cd_fast.enet_coordinate_descent(\n",
      "c:\\Users\\fedor\\ML_Pet_projects\\Kickstarter\\venv\\Lib\\site-packages\\sklearn\\linear_model\\_coordinate_descent.py:695: ConvergenceWarning: Objective did not converge. You might want to increase the number of iterations, check the scale of the features or consider increasing regularisation. Duality gap: 1.099e+13, tolerance: 2.268e+11\n",
      "  model = cd_fast.enet_coordinate_descent(\n",
      "c:\\Users\\fedor\\ML_Pet_projects\\Kickstarter\\venv\\Lib\\site-packages\\sklearn\\linear_model\\_coordinate_descent.py:695: ConvergenceWarning: Objective did not converge. You might want to increase the number of iterations, check the scale of the features or consider increasing regularisation. Duality gap: 1.139e+13, tolerance: 2.303e+11\n",
      "  model = cd_fast.enet_coordinate_descent(\n",
      "c:\\Users\\fedor\\ML_Pet_projects\\Kickstarter\\venv\\Lib\\site-packages\\sklearn\\linear_model\\_coordinate_descent.py:695: ConvergenceWarning: Objective did not converge. You might want to increase the number of iterations, check the scale of the features or consider increasing regularisation. Duality gap: 9.092e+12, tolerance: 2.192e+11\n",
      "  model = cd_fast.enet_coordinate_descent(\n",
      "c:\\Users\\fedor\\ML_Pet_projects\\Kickstarter\\venv\\Lib\\site-packages\\sklearn\\linear_model\\_coordinate_descent.py:695: ConvergenceWarning: Objective did not converge. You might want to increase the number of iterations, check the scale of the features or consider increasing regularisation. Duality gap: 3.646e+13, tolerance: 2.225e+11\n",
      "  model = cd_fast.enet_coordinate_descent(\n"
     ]
    },
    {
     "name": "stdout",
     "output_type": "stream",
     "text": [
      "MSE на кросс-валидации: 8879458836.535\n"
     ]
    },
    {
     "name": "stderr",
     "output_type": "stream",
     "text": [
      "c:\\Users\\fedor\\ML_Pet_projects\\Kickstarter\\venv\\Lib\\site-packages\\sklearn\\linear_model\\_coordinate_descent.py:695: ConvergenceWarning: Objective did not converge. You might want to increase the number of iterations, check the scale of the features or consider increasing regularisation. Duality gap: 2.901e+13, tolerance: 1.864e+11\n",
      "  model = cd_fast.enet_coordinate_descent(\n"
     ]
    }
   ],
   "source": [
    "from sklearn.linear_model import Lasso\n",
    "from sklearn.preprocessing import StandardScaler\n",
    "\n",
    "scaler_x = StandardScaler()\n",
    "\n",
    "scaler_x.fit(X_train)\n",
    "X_train_transformed = scaler_x.transform(X_train)\n",
    "X_test_transformed = scaler_x.transform(X_test)\n",
    "\n",
    "model_Lasso = Lasso()\n",
    "model_Lasso.fit(X_train_transformed, Y_train)\n",
    "\n",
    "mse_scores = -cross_val_score(model_Lasso, X_train_transformed, Y_train, cv = cv, scoring=\"neg_mean_squared_error\")\n",
    "print(f\"MSE на кросс-валидации: {np.mean(mse_scores):.3f}\")"
   ]
  },
  {
   "cell_type": "code",
   "execution_count": null,
   "metadata": {},
   "outputs": [],
   "source": []
  }
 ],
 "metadata": {
  "kernelspec": {
   "display_name": "venv",
   "language": "python",
   "name": "python3"
  },
  "language_info": {
   "codemirror_mode": {
    "name": "ipython",
    "version": 3
   },
   "file_extension": ".py",
   "mimetype": "text/x-python",
   "name": "python",
   "nbconvert_exporter": "python",
   "pygments_lexer": "ipython3",
   "version": "3.12.7"
  }
 },
 "nbformat": 4,
 "nbformat_minor": 2
}
